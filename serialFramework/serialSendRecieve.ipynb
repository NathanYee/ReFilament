{
 "cells": [
  {
   "cell_type": "code",
   "execution_count": 1,
   "metadata": {
    "collapsed": true
   },
   "outputs": [],
   "source": [
    "import serial\n",
    "import time"
   ]
  },
  {
   "cell_type": "code",
   "execution_count": 2,
   "metadata": {
    "collapsed": false
   },
   "outputs": [],
   "source": [
    "ser = serial.Serial('/dev/ttyACM1', 9600) #my particular arduino doesn't like other baud rates"
   ]
  },
  {
   "cell_type": "code",
   "execution_count": 3,
   "metadata": {
    "collapsed": true
   },
   "outputs": [],
   "source": [
    "def getSerialData():\n",
    "    msg = msg.rstrip(b'\\r\\n')\n",
    "    msg = msg.rsplit(b',')\n",
    "    \n",
    "    if len(msg) == 2:\n",
    "        return_numbers = []\n",
    "\n",
    "        for number in msg:\n",
    "            try:\n",
    "                return_numbers.append(int(number))\n",
    "            except:\n",
    "                return_numbers.append(float(number))\n",
    "\n",
    "        return return_numbers\n",
    "    else:\n",
    "        return [2,2] #error message which indicates that python recieved a wrong len msg"
   ]
  },
  {
   "cell_type": "code",
   "execution_count": 4,
   "metadata": {
    "collapsed": true
   },
   "outputs": [],
   "source": [
    "heaterOn=1\n",
    "motorOn=1"
   ]
  },
  {
   "cell_type": "code",
   "execution_count": 5,
   "metadata": {
    "collapsed": false
   },
   "outputs": [],
   "source": [
    "while True:\n",
    "    # Serial write section\n",
    "#     print (\"Python value sent: \")\n",
    "#     print ([heaterOn, motorOn])\n",
    "    ser.write(bytearray([heaterOn, motorOn]))\n",
    "\n",
    "    # Serial read section\n",
    "    try:\n",
    "        msg = ser.readline() # read everything in the input buffer\n",
    "        parsedData = bitsToNumberList(msg)\n",
    "\n",
    "#         print (\"Parsed Data: {}\".format(parsedData))\n",
    "    except:\n",
    "        pass"
   ]
  },
  {
   "cell_type": "code",
   "execution_count": 6,
   "metadata": {
    "collapsed": false
   },
   "outputs": [
    {
     "name": "stdout",
     "output_type": "stream",
     "text": [
      "True\n",
      "False\n"
     ]
    }
   ],
   "source": [
    "print(ser.is_open)\n",
    "ser.close()\n",
    "print(ser.is_open)"
   ]
  },
  {
   "cell_type": "code",
   "execution_count": null,
   "metadata": {
    "collapsed": true
   },
   "outputs": [],
   "source": []
  }
 ],
 "metadata": {
  "kernelspec": {
   "display_name": "Python 3",
   "language": "python",
   "name": "python3"
  },
  "language_info": {
   "codemirror_mode": {
    "name": "ipython",
    "version": 3
   },
   "file_extension": ".py",
   "mimetype": "text/x-python",
   "name": "python",
   "nbconvert_exporter": "python",
   "pygments_lexer": "ipython3",
   "version": "3.5.2"
  }
 },
 "nbformat": 4,
 "nbformat_minor": 1
}
