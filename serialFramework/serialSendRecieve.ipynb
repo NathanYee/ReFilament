{
 "cells": [
  {
   "cell_type": "code",
   "execution_count": 1,
   "metadata": {
    "collapsed": true
   },
   "outputs": [],
   "source": [
    "import serial\n",
    "import time"
   ]
  },
  {
   "cell_type": "code",
   "execution_count": 2,
   "metadata": {
    "collapsed": false
   },
   "outputs": [],
   "source": [
    "ser = serial.Serial('/dev/ttyACM1', 9600) #my particular arduino doesn't like other baud rates"
   ]
  },
  {
   "cell_type": "code",
   "execution_count": 12,
   "metadata": {
    "collapsed": true
   },
   "outputs": [],
   "source": [
    "def getSerialData():\n",
    "    msg = msg.rstrip(b'\\r\\n')\n",
    "    msg = msg.rsplit(b',')\n",
    "    print(\"msg: {}\".format(msg))\n",
    "    if len(msg) == 2:\n",
    "        return_numbers = []\n",
    "\n",
    "        for number in msg:\n",
    "            try:\n",
    "                return_numbers.append(int(number))\n",
    "            except:\n",
    "                return_numbers.append(float(number))\n",
    "\n",
    "        return return_numbers\n",
    "    else:\n",
    "        return [2,2] #error message which indicates that python recieved a wrong len msg"
   ]
  },
  {
   "cell_type": "code",
   "execution_count": 8,
   "metadata": {
    "collapsed": true
   },
   "outputs": [],
   "source": [
    "msg = ser.readline() # read everything in the input buffer"
   ]
  },
  {
   "cell_type": "code",
   "execution_count": 9,
   "metadata": {
    "collapsed": false
   },
   "outputs": [
    {
     "name": "stdout",
     "output_type": "stream",
     "text": [
      "b'0,0\\r\\n'\n"
     ]
    }
   ],
   "source": [
    "print(msg)"
   ]
  },
  {
   "cell_type": "code",
   "execution_count": 11,
   "metadata": {
    "collapsed": false
   },
   "outputs": [
    {
     "ename": "TypeError",
     "evalue": "getSerialData() takes 0 positional arguments but 1 was given",
     "output_type": "error",
     "traceback": [
      "\u001b[0;31m---------------------------------------------------------------------------\u001b[0m",
      "\u001b[0;31mTypeError\u001b[0m                                 Traceback (most recent call last)",
      "\u001b[0;32m<ipython-input-11-c416abfe6ac2>\u001b[0m in \u001b[0;36m<module>\u001b[0;34m()\u001b[0m\n\u001b[0;32m----> 1\u001b[0;31m \u001b[0mparsedData\u001b[0m \u001b[0;34m=\u001b[0m \u001b[0mgetSerialData\u001b[0m\u001b[0;34m(\u001b[0m\u001b[0mmsg\u001b[0m\u001b[0;34m)\u001b[0m\u001b[0;34m\u001b[0m\u001b[0m\n\u001b[0m",
      "\u001b[0;31mTypeError\u001b[0m: getSerialData() takes 0 positional arguments but 1 was given"
     ]
    }
   ],
   "source": [
    "parsedData = getSerialData(msg)"
   ]
  },
  {
   "cell_type": "code",
   "execution_count": 4,
   "metadata": {
    "collapsed": true
   },
   "outputs": [],
   "source": [
    "heaterOn=1\n",
    "motorOn=1"
   ]
  },
  {
   "cell_type": "code",
   "execution_count": 5,
   "metadata": {
    "collapsed": false
   },
   "outputs": [
    {
     "name": "stdout",
     "output_type": "stream",
     "text": [
      "didn't work 0\n",
      "didn't work 1\n",
      "didn't work 2\n",
      "didn't work 3\n",
      "didn't work 4\n",
      "didn't work 5\n",
      "didn't work 6\n",
      "didn't work 7\n",
      "didn't work 8\n",
      "didn't work 9\n",
      "didn't work 10\n",
      "didn't work 11\n",
      "didn't work 12\n",
      "didn't work 13\n",
      "didn't work 14\n",
      "didn't work 15\n",
      "didn't work 16\n",
      "didn't work 17\n",
      "didn't work 18\n",
      "didn't work 19\n",
      "didn't work 20\n",
      "didn't work 21\n",
      "didn't work 22\n",
      "didn't work 23\n",
      "didn't work 24\n",
      "didn't work 25\n",
      "didn't work 26\n",
      "didn't work 27\n",
      "didn't work 28\n",
      "didn't work 29\n",
      "didn't work 30\n",
      "didn't work 31\n",
      "didn't work 32\n",
      "didn't work 33\n",
      "didn't work 34\n",
      "didn't work 35\n",
      "didn't work 36\n",
      "didn't work 37\n",
      "didn't work 38\n",
      "didn't work 39\n",
      "didn't work 40\n",
      "didn't work 41\n",
      "didn't work 42\n",
      "didn't work 43\n",
      "didn't work 44\n",
      "didn't work 45\n",
      "didn't work 46\n",
      "didn't work 47\n",
      "didn't work 48\n",
      "didn't work 49\n",
      "didn't work 50\n",
      "didn't work 51\n",
      "didn't work 52\n",
      "didn't work 53\n",
      "didn't work 54\n",
      "didn't work 55\n",
      "didn't work 56\n",
      "didn't work 57\n",
      "didn't work 58\n",
      "didn't work 59\n",
      "didn't work 60\n",
      "didn't work 61\n",
      "didn't work 62\n",
      "didn't work 63\n",
      "didn't work 64\n",
      "didn't work 65\n",
      "didn't work 66\n",
      "didn't work 67\n",
      "didn't work 68\n",
      "didn't work 69\n",
      "didn't work 70\n",
      "didn't work 71\n",
      "didn't work 72\n",
      "didn't work 73\n",
      "didn't work 74\n",
      "didn't work 75\n",
      "didn't work 76\n",
      "didn't work 77\n",
      "didn't work 78\n",
      "didn't work 79\n",
      "didn't work 80\n",
      "didn't work 81\n",
      "didn't work 82\n",
      "didn't work 83\n",
      "didn't work 84\n",
      "didn't work 85\n",
      "didn't work 86\n",
      "didn't work 87\n",
      "didn't work 88\n",
      "didn't work 89\n",
      "didn't work 90\n",
      "didn't work 91\n",
      "didn't work 92\n",
      "didn't work 93\n",
      "didn't work 94\n",
      "didn't work 95\n",
      "didn't work 96\n",
      "didn't work 97\n",
      "didn't work 98\n",
      "didn't work 99\n",
      "didn't work 100\n",
      "didn't work 101\n",
      "didn't work 102\n",
      "didn't work 103\n",
      "didn't work 104\n",
      "didn't work 105\n",
      "didn't work 106\n",
      "didn't work 107\n",
      "didn't work 108\n",
      "didn't work 109\n",
      "didn't work 110\n",
      "didn't work 111\n",
      "didn't work 112\n",
      "didn't work 113\n",
      "didn't work 114\n",
      "didn't work 115\n",
      "didn't work 116\n",
      "didn't work 117\n",
      "didn't work 118\n",
      "didn't work 119\n",
      "didn't work 120\n",
      "didn't work 121\n",
      "didn't work 122\n",
      "didn't work 123\n",
      "didn't work 124\n",
      "didn't work 125\n",
      "didn't work 126\n",
      "didn't work 127\n",
      "didn't work 128\n",
      "didn't work 129\n",
      "didn't work 130\n",
      "didn't work 131\n",
      "didn't work 132\n",
      "didn't work 133\n",
      "didn't work 134\n",
      "didn't work 135\n",
      "didn't work 136\n",
      "didn't work 137\n",
      "didn't work 138\n",
      "didn't work 139\n",
      "didn't work 140\n",
      "didn't work 141\n",
      "didn't work 142\n",
      "didn't work 143\n",
      "didn't work 144\n",
      "didn't work 145\n",
      "didn't work 146\n",
      "didn't work 147\n",
      "didn't work 148\n",
      "didn't work 149\n",
      "didn't work 150\n",
      "didn't work 151\n",
      "didn't work 152\n",
      "didn't work 153\n",
      "didn't work 154\n",
      "didn't work 155\n",
      "didn't work 156\n",
      "didn't work 157\n",
      "didn't work 158\n",
      "didn't work 159\n",
      "didn't work 160\n",
      "didn't work 161\n",
      "didn't work 162\n",
      "didn't work 163\n",
      "didn't work 164\n",
      "didn't work 165\n",
      "didn't work 166\n",
      "didn't work 167\n",
      "didn't work 168\n",
      "didn't work 169\n",
      "didn't work 170\n",
      "didn't work 171\n",
      "didn't work 172\n",
      "didn't work 173\n",
      "didn't work 174\n",
      "didn't work 175\n",
      "didn't work 176\n",
      "didn't work 177\n",
      "didn't work 178\n",
      "didn't work 179\n",
      "didn't work 180\n",
      "didn't work 181\n",
      "didn't work 182\n",
      "didn't work 183\n",
      "didn't work 184\n",
      "didn't work 185\n",
      "didn't work 186\n",
      "didn't work 187\n",
      "didn't work 188\n",
      "didn't work 189\n",
      "didn't work 190\n",
      "didn't work 191\n",
      "didn't work 192\n",
      "didn't work 193\n",
      "didn't work 194\n",
      "didn't work 195\n",
      "didn't work 196\n",
      "didn't work 197\n",
      "didn't work 198\n",
      "didn't work 199\n"
     ]
    }
   ],
   "source": [
    "for i in range(200):\n",
    "    # Serial write section\n",
    "#     print (\"Python value sent: \")\n",
    "#     print ([heaterOn, motorOn])\n",
    "    ser.write(bytearray([heaterOn, motorOn]))\n",
    "\n",
    "    # Serial read section\n",
    "    try:\n",
    "        msg = ser.readline() # read everything in the input buffer\n",
    "        parsedData = getSerialData(msg)\n",
    "        print (\"Parsed Data: {}\".format(parsedData))\n",
    "        \n",
    "    except:\n",
    "        print (\"didn't work {}\".format(i))\n",
    "        pass"
   ]
  },
  {
   "cell_type": "code",
   "execution_count": 6,
   "metadata": {
    "collapsed": false
   },
   "outputs": [
    {
     "name": "stdout",
     "output_type": "stream",
     "text": [
      "True\n",
      "False\n"
     ]
    }
   ],
   "source": [
    "print(ser.is_open)\n",
    "ser.close()\n",
    "print(ser.is_open)"
   ]
  },
  {
   "cell_type": "code",
   "execution_count": null,
   "metadata": {
    "collapsed": true
   },
   "outputs": [],
   "source": []
  }
 ],
 "metadata": {
  "kernelspec": {
   "display_name": "Python 3",
   "language": "python",
   "name": "python3"
  },
  "language_info": {
   "codemirror_mode": {
    "name": "ipython",
    "version": 3
   },
   "file_extension": ".py",
   "mimetype": "text/x-python",
   "name": "python",
   "nbconvert_exporter": "python",
   "pygments_lexer": "ipython3",
   "version": "3.5.2"
  }
 },
 "nbformat": 4,
 "nbformat_minor": 1
}
